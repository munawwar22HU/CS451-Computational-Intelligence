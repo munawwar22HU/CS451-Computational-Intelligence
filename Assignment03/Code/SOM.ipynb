{
  "nbformat": 4,
  "nbformat_minor": 0,
  "metadata": {
    "colab": {
      "name": "SOM.ipynb",
      "provenance": [],
      "toc_visible": true
    },
    "kernelspec": {
      "name": "python3",
      "display_name": "Python 3"
    },
    "language_info": {
      "name": "python"
    }
  },
  "cells": [
    {
      "cell_type": "markdown",
      "metadata": {
        "id": "SsKo1954PN6w"
      },
      "source": [
        "Importing the required modules"
      ]
    },
    {
      "cell_type": "code",
      "metadata": {
        "id": "qI_JsKAqLDpK",
        "colab": {
          "base_uri": "https://localhost:8080/"
        },
        "outputId": "c987fbe9-ed75-4c30-8331-1bf80e92190f"
      },
      "source": [
        "# form __future__ import division\n",
        "import numpy as np\n",
        "from matplotlib import pyplot as plt\n",
        "from matplotlib import patches as patches\n",
        "from matplotlib import animation,rc\n",
        "from matplotlib import cm\n",
        "import pandas as pd\n",
        "!pip install iso3166\n",
        "import iso3166\n",
        "import matplotlib.colors as colors"
      ],
      "execution_count": 181,
      "outputs": [
        {
          "output_type": "stream",
          "text": [
            "Requirement already satisfied: iso3166 in /usr/local/lib/python3.7/dist-packages (1.0.1)\n"
          ],
          "name": "stdout"
        }
      ]
    },
    {
      "cell_type": "markdown",
      "metadata": {
        "id": "mb9Ic2cIO6I9"
      },
      "source": [
        "Getting the dataset\n"
      ]
    },
    {
      "cell_type": "code",
      "metadata": {
        "id": "PeV2AXbzA-Kd"
      },
      "source": [
        "!wget \"https://population.un.org/wpp/Download/Files/1_Indicators%20(Standard)/CSV_FILES/WPP2019_TotalPopulationBySex.csv\"\n"
      ],
      "execution_count": null,
      "outputs": []
    },
    {
      "cell_type": "markdown",
      "metadata": {
        "id": "Hkvdhf8NPCxS"
      },
      "source": [
        "Import Geopandas and renaming countries to match."
      ]
    },
    {
      "cell_type": "code",
      "metadata": {
        "id": "YsZPxoESHd3r"
      },
      "source": [
        "!pip install geopandas\n",
        "import geopandas as gpd\n",
        "import copy\n",
        "world_data = gpd.read_file('World_Map.shp')    \n",
        "world_data.replace('United States', 'United States of America', inplace = True)\n",
        "world_data.replace('Russia', 'Russian Federation', inplace = True)\n",
        "world_data.replace('Burma', 'Myanmar', inplace = True)\n",
        "world_data.replace('Venezuela','Venezuela (Bolivarian Republic of)', inplace = True)\n",
        "world_data.replace(\"Korea, Democratic People's Republic of\", \"Dem. People's Republic of Korea\", inplace = True)\n",
        "world_data.replace('Korea, Republic of', 'Republic of Korea', inplace = True)\n",
        "world_data.replace('Swaziland', 'Eswatini', inplace = True)\n",
        "world_data.replace('Palestine', 'State of Palestine', inplace = True)\n",
        "world_data.replace('Bolivia', 'Bolivia (Plurinational State of)', inplace = True)\n",
        "world_data.replace('Libyan Arab Jamahiriya','Libya', inplace = True)\n",
        "world_data.replace('Czech Republic', 'Czechia', inplace = True)\n",
        "world_data.replace('The former Yugoslav Republic of Macedonia','North Macedonia',inplace=True)\n",
        "world_data.replace('Micronesia, Federated States of', 'Micronesia (Fed. States of)', inplace = True)\n",
        "world_data.replace(\"Cote d'Ivoire\", \"Côte d'Ivoire\", inplace = True)\n",
        "world_data.replace('Cape Verde','Cabo Verde', inplace = True)\n"
      ],
      "execution_count": null,
      "outputs": []
    },
    {
      "cell_type": "markdown",
      "metadata": {
        "id": "GWelqvcKPS0h"
      },
      "source": [
        "Pre Processing Dataset."
      ]
    },
    {
      "cell_type": "code",
      "metadata": {
        "id": "zyJpgMgFIFV_",
        "colab": {
          "base_uri": "https://localhost:8080/"
        },
        "outputId": "f4439b9b-104d-45eb-d76c-e6176606466c"
      },
      "source": [
        "#Countries = ['China', 'India',  'United States of America', 'Indonesia', 'Pakistan', 'Brazil', 'Nigeria', 'Bangladesh', 'Russian Federation', 'Mexico', 'Japan', 'Ethiopia', 'Philippines', 'Egypt', 'Viet Nam', 'Democratic Republic of the Congo', 'Turkey', 'Iran (Islamic Republic of)', 'Germany', 'Thailand', 'United Kingdom', 'France', 'Italy',  'United Republic of Tanzania', 'South Africa', 'Myanmar', 'Kenya', 'Republic of Korea', 'Colombia', 'Spain', 'Uganda', 'Argentina', 'Algeria', 'Sudan', 'Ukraine', 'Iraq', 'Afghanistan', 'Poland', 'Canada', 'Morocco', 'Saudi Arabia', 'Uzbekistan', 'Peru', 'Angola', 'Malaysia', 'Mozambique', 'Ghana', 'Yemen', 'Nepal', 'Venezuela (Bolivarian Republic of)', 'Madagascar', 'Cameroon', \"Côte d'Ivoire\",\"Dem. People's Republic of Korea\", 'Australia', 'Niger', 'Sri Lanka', 'Burkina Faso', 'Mali', 'Romania', 'Malawi', 'Chile', 'Kazakhstan', 'Zambia', 'Guatemala', 'Ecuador', 'Syrian Arab Republic', 'Netherlands', 'Senegal', 'Cambodia', 'Chad', 'Somalia', 'Zimbabwe', 'Guinea', 'Rwanda', 'Benin', 'Burundi', 'Tunisia', 'Bolivia (Plurinational State of)', 'Belgium', 'Haiti', 'Cuba', 'South Sudan', 'Dominican Republic', 'Czechia', 'Greece', 'Jordan', 'Portugal', 'Azerbaijan', 'Sweden', 'Honduras', 'United Arab Emirates', 'Hungary', 'Tajikistan', 'Belarus', 'Austria', 'Papua New Guinea', 'Serbia', 'Israel', 'Switzerland', 'Togo', 'Sierra Leone', \"Lao People's Democratic Republic\", 'Paraguay', 'Bulgaria', 'Libya', 'Lebanon', 'Nicaragua', 'Kyrgyzstan', 'El Salvador', 'Turkmenistan', 'Singapore', 'Denmark', 'Finland', 'Congo', 'Slovakia', 'Norway', 'Oman', 'State of Palestine', 'Costa Rica', 'Liberia', 'Ireland', 'Central African Republic', 'New Zealand', 'Mauritania', 'Panama', 'Kuwait', 'Croatia', 'Republic of Moldova', 'Georgia', 'Eritrea', 'Uruguay', 'Bosnia and Herzegovina', 'Mongolia', 'Armenia', 'Jamaica', 'Qatar', 'Albania', 'Lithuania', 'Namibia', 'Gambia', 'Botswana', 'Gabon', 'Lesotho', 'North Macedonia', 'Slovenia', 'Guinea-Bissau', 'Latvia', 'Bahrain', 'Equatorial Guinea', 'Trinidad and Tobago', 'Estonia', 'Timor-Leste', 'Mauritius', 'Cyprus', 'Eswatini', 'Djibouti', 'Fiji', 'Comoros', 'Guyana', 'Bhutan', 'Solomon Islands', 'Montenegro', 'Luxembourg', 'Suriname', 'Cabo Verde',  'Micronesia (Fed. States of)', 'Maldives', 'Malta', 'Brunei Darussalam', 'Belize', 'Bahamas', 'Iceland', 'Vanuatu', 'Barbados', 'Sao Tome and Principe', 'Samoa', 'Saint Lucia', 'Kiribati', 'Grenada',  'Saint Vincent and the Grenadines', 'Tonga', 'Seychelles', 'Antigua and Barbuda', 'Andorra', 'Dominica', 'Marshall Islands', 'Saint Kitts & Nevis', 'Monaco', 'Liechtenstein', 'San Marino', 'Palau', 'Tuvalu', 'Nauru', 'Holy See']\n",
        "Countries = ['China', 'India',  'United States of America', 'Indonesia', 'Pakistan', 'Brazil', 'Nigeria', 'Bangladesh', 'Russian Federation', 'Mexico', 'Japan', 'Ethiopia', 'Philippines', 'Egypt', 'Viet Nam', 'Democratic Republic of the Congo', 'Turkey', 'Iran (Islamic Republic of)', 'Germany', 'Thailand', 'United Kingdom', 'France', 'Italy',  'United Republic of Tanzania', 'South Africa', 'Myanmar', 'Kenya', 'Republic of Korea', 'Colombia', 'Spain', 'Uganda', 'Argentina', 'Algeria', 'Sudan', 'Ukraine', 'Iraq', 'Afghanistan', 'Poland', 'Canada', 'Morocco', 'Saudi Arabia', 'Uzbekistan', 'Peru', 'Angola', 'Malaysia', 'Mozambique', 'Ghana', 'Yemen', 'Nepal', 'Venezuela (Bolivarian Republic of)', 'Madagascar', 'Cameroon', \"Côte d'Ivoire\",\"Dem. People's Republic of Korea\", 'Australia', 'Niger', 'Sri Lanka', 'Burkina Faso', 'Mali', 'Romania', 'Malawi', 'Chile', 'Kazakhstan', 'Zambia', 'Guatemala', 'Ecuador', 'Syrian Arab Republic', 'Netherlands', 'Senegal', 'Cambodia', 'Chad', 'Somalia', 'Zimbabwe', 'Guinea', 'Rwanda', 'Benin', 'Burundi', 'Tunisia', 'Bolivia (Plurinational State of)', 'Belgium', 'Haiti', 'Cuba',  'Czechia', 'Greece', 'Jordan', 'Portugal', 'Azerbaijan', 'Sweden', 'Honduras', 'United Arab Emirates', 'Hungary', 'Tajikistan', 'Belarus', 'Austria', 'Papua New Guinea', 'Serbia', 'Israel', 'Switzerland', 'Togo', 'Sierra Leone', \"Lao People's Democratic Republic\", 'Paraguay', 'Bulgaria', 'Libya', 'Lebanon', 'Nicaragua', 'Kyrgyzstan', 'El Salvador', 'Turkmenistan', 'Singapore', 'Denmark', 'Finland', 'Congo', 'Slovakia', 'Norway', 'Oman', 'State of Palestine', 'Costa Rica', 'Liberia', 'Ireland', 'Central African Republic', 'New Zealand', 'Mauritania', 'Panama', 'Kuwait', 'Croatia', 'Republic of Moldova', 'Georgia', 'Eritrea', 'Uruguay', 'Bosnia and Herzegovina', 'Mongolia', 'Armenia', 'Jamaica', 'Qatar', 'Albania', 'Lithuania', 'Namibia', 'Gambia', 'Botswana', 'Gabon', 'Lesotho', 'North Macedonia', 'Slovenia', 'Guinea-Bissau', 'Latvia', 'Bahrain', 'Equatorial Guinea', 'Trinidad and Tobago', 'Estonia', 'Timor-Leste', 'Mauritius', 'Cyprus', 'Eswatini', 'Djibouti', 'Fiji', 'Comoros', 'Guyana', 'Bhutan', 'Solomon Islands', 'Montenegro', 'Luxembourg', 'Suriname', 'Cabo Verde',  'Micronesia (Fed. States of)', 'Maldives', 'Malta', 'Brunei Darussalam', 'Belize', 'Bahamas', 'Iceland', 'Vanuatu', 'Barbados', 'Sao Tome and Principe', 'Samoa', 'Saint Lucia', 'Kiribati', 'Grenada',  'Saint Vincent and the Grenadines', 'Tonga', 'Seychelles', 'Antigua and Barbuda', 'Dominican Republic']\n",
        "IsoCodes = list(iso3166.countries_by_numeric.keys())\n",
        "IsoCodes = list(map(int, IsoCodes))\n",
        "df = pd.read_csv('WPP2019_TotalPopulationBySex.csv')\n",
        "df.dropna(inplace=True)\n",
        "df = df[df['LocID'].isin(IsoCodes)]\n",
        "RenameList = list()\n",
        "for location in df.Location.unique():\n",
        "    if location not in Countries: RenameList.append(location)\n",
        "df  = df[~df['Location'].isin(RenameList)]\n",
        "df.shape\n"
      ],
      "execution_count": 184,
      "outputs": [
        {
          "output_type": "execute_result",
          "data": {
            "text/plain": [
              "(161772, 10)"
            ]
          },
          "metadata": {
            "tags": []
          },
          "execution_count": 184
        }
      ]
    },
    {
      "cell_type": "markdown",
      "metadata": {
        "id": "nBvZO4WyPeW5"
      },
      "source": [
        "Self Organizing Maps"
      ]
    },
    {
      "cell_type": "code",
      "metadata": {
        "id": "6tu0--2BRX77"
      },
      "source": [
        "def find_bmu(t,net,m):\n",
        "  bmu_idx = np.array([0,0])\n",
        "  min_dist = np.iinfo(np.int).max\n",
        "  for x in range(net.shape[0]):\n",
        "    for y in range(net.shape[1]):\n",
        "      w  = net[x,y, :]\n",
        "      sq_dist = np.sum((w-t)**2)\n",
        "      if sq_dist < min_dist:\n",
        "        min_dist = sq_dist\n",
        "        bmu_idx  = np.array([x,y])\n",
        "  bmu = net[bmu_idx[0],bmu_idx[1]]\n",
        "  return (bmu,bmu_idx)\n",
        "def decay_raduis(initial_raduis,i,time_constant):\n",
        "  return initial_raduis * np.exp(-i /time_constant)\n",
        "def decay_learning_rate(initial_learning_rate,i,n_iterations):\n",
        "  return initial_learning_rate * np.exp(-i/n_iterations)\n",
        "def calculate_influence(distance,raduis):\n",
        "  return np.exp(-distance/(2*(raduis**2)))\n",
        "def Learn(data):\n",
        "  for i in range(n_iterations):\n",
        "    t  = data[np.random.randint(0,m)]\n",
        "    bmu , bmu_idx   = find_bmu(t,net,n)\n",
        "    r  = decay_raduis(init_raduis,i,time_constant)\n",
        "    l = decay_learning_rate(init_learning_rate,i,n_iterations)\n",
        "    for x in range(net.shape[0]):\n",
        "      for y in range(net.shape[1]):\n",
        "        w = net[x,y]\n",
        "        w_dist  = np.sum((np.array([x,y])-bmu_idx)**2)\n",
        "        if w_dist <=r**2:\n",
        "          influence  = calculate_influence(w_dist,r)\n",
        "          new_w = w + (l*influence*(t-w))\n",
        "          net[x,y] = new_w\n",
        "  return net\n",
        "\n",
        "\n",
        "\n",
        "  \n",
        "  "
      ],
      "execution_count": 185,
      "outputs": []
    },
    {
      "cell_type": "markdown",
      "metadata": {
        "id": "RGJ3Bm-TU_xi"
      },
      "source": [
        "Initialization of Parameters."
      ]
    },
    {
      "cell_type": "code",
      "metadata": {
        "id": "jxsfQ8_8pbKN"
      },
      "source": [
        "DF2100 = df[np.logical_and(df.Time==2100,df.VarID==2)]\n",
        "RawData = DF2100[['PopMale','PopFemale','PopTotal','PopDensity']].to_numpy()\n",
        "m = RawData.shape[0]\n",
        "n = RawData.shape[1]\n",
        "normalise_data = True\n",
        "normalise_by_column = True\n",
        "if normalise_data:\n",
        "  if normalise_by_column:\n",
        "    col_maxes = RawData.max(axis=0)\n",
        "    data = RawData/col_maxes[np.newaxis , :]\n",
        "  else:\n",
        "    data =  RawData / data.max()\n",
        "\n",
        "network_dimensions = np.array([10,10])\n",
        "n_iterations = 10000\n",
        "init_learning_rate = 0.01\n",
        "init_raduis  = max(network_dimensions[0],network_dimensions[1])/2\n",
        "time_constant  = n_iterations/np.log(init_raduis)\n",
        "cblues = ['thistle','violet','mediumorchid', 'darkviolet','royalblue','blue','navy','lime','limegreen','darkgreen']\n",
        "cmap = colors.ListedColormap(cblues)\n",
        "boundaries = np.array([0,0.00005,0.001,0.0005,0.001,0.005,0.01,0.03,0.1,0.5,1])\n",
        "norm = colors.BoundaryNorm(boundaries*100_000,cmap.N,clip=True)\n",
        "net = np.random.random((network_dimensions[0],network_dimensions[1],n))"
      ],
      "execution_count": 186,
      "outputs": []
    },
    {
      "cell_type": "markdown",
      "metadata": {
        "id": "ETNCTQoVU4IZ"
      },
      "source": [
        "Visualise the dataset"
      ]
    },
    {
      "cell_type": "code",
      "metadata": {
        "id": "_nGR5ishl8xM"
      },
      "source": [
        "fig = plt.figure()\n",
        "net = Learn(data)\n",
        "output  = np.sum(net,axis=2)\n",
        "plt.imshow((output/np.max(output))*100_000,animated=True,norm=norm,cmap=cmap)\n",
        "plt.colorbar()\n",
        "plt.title('2100')\n",
        "plt.show()\n",
        "BMU = list()\n",
        "for i in range(len(DF2100)):\n",
        "   t = data[i]\n",
        "   bmu = sum(find_bmu(t,net,n)[0])\n",
        "   BMU.append(bmu)\n",
        "DF2100['Bmu'] = BMU\n",
        "DF2100.Bmu = DF2100.Bmu*100_000\n",
        "DF2100.rename(columns = {'Location': 'NAME'}, inplace = True)\n",
        "Combined = world_data.merge(DF2100, on = 'NAME')\n",
        "fig2 = plt.figure()\n",
        "Combined.plot(column='Bmu',legend=True,cmap=cmap,norm=norm,figsize=(15,7))\n",
        "plt.title('2100')\n",
        "plt.show()\n"
      ],
      "execution_count": null,
      "outputs": []
    },
    {
      "cell_type": "markdown",
      "metadata": {
        "id": "lxfr8DmuVWtf"
      },
      "source": [
        "Refrences:\n",
        "\n",
        "1.   Lecture on SOMS\n",
        "2.   https://towardsdatascience.com/self-organizing-maps-for-dimension-reduction-data-visualization-and-clustering-ff966edd311c\n",
        "3. http://www.ai-junkie.com/ann/som/som1.html\n",
        "\n",
        "\n"
      ]
    }
  ]
}